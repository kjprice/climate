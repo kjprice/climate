{
 "cells": [
  {
   "cell_type": "code",
   "execution_count": 1,
   "metadata": {
    "collapsed": false
   },
   "outputs": [],
   "source": [
    "import pandas as pd\n",
    "import numpy as np\n",
    "import matplotlib.pyplot as plt"
   ]
  },
  {
   "cell_type": "code",
   "execution_count": 2,
   "metadata": {
    "collapsed": false
   },
   "outputs": [],
   "source": [
    "weather = pd.read_csv('../data/houston-weather.csv', low_memory=False)"
   ]
  },
  {
   "cell_type": "code",
   "execution_count": 3,
   "metadata": {
    "collapsed": false
   },
   "outputs": [
    {
     "data": {
      "text/html": [
       "<div>\n",
       "<table border=\"1\" class=\"dataframe\">\n",
       "  <thead>\n",
       "    <tr style=\"text-align: right;\">\n",
       "      <th></th>\n",
       "      <th>SNOW</th>\n",
       "      <th>SNWD</th>\n",
       "      <th>TAVG</th>\n",
       "      <th>TMAX</th>\n",
       "      <th>TMIN</th>\n",
       "      <th>TOBS</th>\n",
       "    </tr>\n",
       "  </thead>\n",
       "  <tbody>\n",
       "    <tr>\n",
       "      <th>count</th>\n",
       "      <td>82305.000000</td>\n",
       "      <td>81466.000000</td>\n",
       "      <td>4394.000000</td>\n",
       "      <td>45069.000000</td>\n",
       "      <td>45059.000000</td>\n",
       "      <td>29986.000000</td>\n",
       "    </tr>\n",
       "    <tr>\n",
       "      <th>mean</th>\n",
       "      <td>0.000190</td>\n",
       "      <td>0.000061</td>\n",
       "      <td>70.608330</td>\n",
       "      <td>78.873727</td>\n",
       "      <td>59.985464</td>\n",
       "      <td>64.441940</td>\n",
       "    </tr>\n",
       "    <tr>\n",
       "      <th>std</th>\n",
       "      <td>0.014771</td>\n",
       "      <td>0.009269</td>\n",
       "      <td>12.934433</td>\n",
       "      <td>12.898986</td>\n",
       "      <td>14.094386</td>\n",
       "      <td>13.295743</td>\n",
       "    </tr>\n",
       "    <tr>\n",
       "      <th>min</th>\n",
       "      <td>0.000000</td>\n",
       "      <td>0.000000</td>\n",
       "      <td>28.000000</td>\n",
       "      <td>9.000000</td>\n",
       "      <td>7.000000</td>\n",
       "      <td>6.000000</td>\n",
       "    </tr>\n",
       "    <tr>\n",
       "      <th>25%</th>\n",
       "      <td>0.000000</td>\n",
       "      <td>0.000000</td>\n",
       "      <td>62.000000</td>\n",
       "      <td>71.000000</td>\n",
       "      <td>49.000000</td>\n",
       "      <td>55.000000</td>\n",
       "    </tr>\n",
       "    <tr>\n",
       "      <th>50%</th>\n",
       "      <td>0.000000</td>\n",
       "      <td>0.000000</td>\n",
       "      <td>73.000000</td>\n",
       "      <td>81.000000</td>\n",
       "      <td>63.000000</td>\n",
       "      <td>68.000000</td>\n",
       "    </tr>\n",
       "    <tr>\n",
       "      <th>75%</th>\n",
       "      <td>0.000000</td>\n",
       "      <td>0.000000</td>\n",
       "      <td>82.000000</td>\n",
       "      <td>89.000000</td>\n",
       "      <td>73.000000</td>\n",
       "      <td>75.000000</td>\n",
       "    </tr>\n",
       "    <tr>\n",
       "      <th>max</th>\n",
       "      <td>1.700000</td>\n",
       "      <td>2.000000</td>\n",
       "      <td>92.000000</td>\n",
       "      <td>109.000000</td>\n",
       "      <td>95.000000</td>\n",
       "      <td>98.000000</td>\n",
       "    </tr>\n",
       "  </tbody>\n",
       "</table>\n",
       "</div>"
      ],
      "text/plain": [
       "               SNOW          SNWD         TAVG          TMAX          TMIN  \\\n",
       "count  82305.000000  81466.000000  4394.000000  45069.000000  45059.000000   \n",
       "mean       0.000190      0.000061    70.608330     78.873727     59.985464   \n",
       "std        0.014771      0.009269    12.934433     12.898986     14.094386   \n",
       "min        0.000000      0.000000    28.000000      9.000000      7.000000   \n",
       "25%        0.000000      0.000000    62.000000     71.000000     49.000000   \n",
       "50%        0.000000      0.000000    73.000000     81.000000     63.000000   \n",
       "75%        0.000000      0.000000    82.000000     89.000000     73.000000   \n",
       "max        1.700000      2.000000    92.000000    109.000000     95.000000   \n",
       "\n",
       "               TOBS  \n",
       "count  29986.000000  \n",
       "mean      64.441940  \n",
       "std       13.295743  \n",
       "min        6.000000  \n",
       "25%       55.000000  \n",
       "50%       68.000000  \n",
       "75%       75.000000  \n",
       "max       98.000000  "
      ]
     },
     "execution_count": 3,
     "metadata": {},
     "output_type": "execute_result"
    }
   ],
   "source": [
    "weather.describe()"
   ]
  },
  {
   "cell_type": "code",
   "execution_count": 4,
   "metadata": {
    "collapsed": false
   },
   "outputs": [
    {
     "data": {
      "text/plain": [
       "array(['BAYTOWN, TX US', 'HOUSTON NORTH HOUSTON, TX US', 'ALVIN, TX US',\n",
       "       'CYPRESS, TX US', 'HOUSTON HEIGHTS, TX US', 'CLODINE, TX US',\n",
       "       'HOUSTON NATIONAL WEATHER SERVICE OFFICE, TX US',\n",
       "       'HOUSTON INTERCONTINENTAL AIRPORT, TX US'], dtype=object)"
      ]
     },
     "execution_count": 4,
     "metadata": {},
     "output_type": "execute_result"
    }
   ],
   "source": [
    "weather.NAME.unique()"
   ]
  },
  {
   "cell_type": "code",
   "execution_count": 5,
   "metadata": {
    "collapsed": false
   },
   "outputs": [
    {
     "name": "stdout",
     "output_type": "stream",
     "text": [
      "12946 dates with 70 null values for \"BAYTOWN, TX US\"\n",
      "10682 dates with 10682 null values for \"HOUSTON NORTH HOUSTON, TX US\"\n",
      "9738 dates with 1240 null values for \"ALVIN, TX US\"\n",
      "10293 dates with 10293 null values for \"CYPRESS, TX US\"\n",
      "9587 dates with 9587 null values for \"HOUSTON HEIGHTS, TX US\"\n",
      "10795 dates with 10795 null values for \"CLODINE, TX US\"\n",
      "9822 dates with 7 null values for \"HOUSTON NATIONAL WEATHER SERVICE OFFICE, TX US\"\n",
      "13872 dates with 2 null values for \"HOUSTON INTERCONTINENTAL AIRPORT, TX US\"\n"
     ]
    }
   ],
   "source": [
    "weather_stations = weather.NAME.unique()\n",
    "for name in weather_stations:\n",
    "    station_weather = weather[weather.NAME == name]\n",
    "    num_dates = len(station_weather)\n",
    "    num_null_temps = len(station_weather[station_weather.TMIN.isnull()])\n",
    "    print('%d dates with %d null values for \"%s\"' % (num_dates, num_null_temps, name))"
   ]
  },
  {
   "cell_type": "markdown",
   "metadata": {},
   "source": [
    "Let's use **HOUSTON INTERCONTINENTAL AIRPORT, TX US**"
   ]
  },
  {
   "cell_type": "code",
   "execution_count": 6,
   "metadata": {
    "collapsed": false
   },
   "outputs": [
    {
     "name": "stdout",
     "output_type": "stream",
     "text": [
      "13872 dates with 459 freezing dates\n"
     ]
    }
   ],
   "source": [
    "station_weather = weather[weather.NAME == 'HOUSTON INTERCONTINENTAL AIRPORT, TX US']\n",
    "dates_total = len(station_weather)\n",
    "freezing_dates = station_weather[station_weather.TMIN < 33]\n",
    "freezing_dates_total = len(freezing_dates)\n",
    "print('%d dates with %d freezing dates' % (dates_total, freezing_dates_total))"
   ]
  },
  {
   "cell_type": "markdown",
   "metadata": {},
   "source": [
    "# Distribution of temperatures below freezing"
   ]
  },
  {
   "cell_type": "code",
   "execution_count": 7,
   "metadata": {
    "collapsed": false
   },
   "outputs": [
    {
     "data": {
      "image/png": "[encoded data removed]",
      "text/plain": [
       "<matplotlib.figure.Figure at 0x11a34da90>"
      ]
     },
     "metadata": {},
     "output_type": "display_data"
    }
   ],
   "source": [
    "freezing_dates.TMIN.hist()\n",
    "plt.show()"
   ]
  },
  {
   "cell_type": "code",
   "execution_count": 8,
   "metadata": {
    "collapsed": false
   },
   "outputs": [
    {
     "data": {
      "text/html": [
       "<div>\n",
       "<table border=\"1\" class=\"dataframe\">\n",
       "  <thead>\n",
       "    <tr style=\"text-align: right;\">\n",
       "      <th></th>\n",
       "      <th>YEAR</th>\n",
       "      <th>STATION</th>\n",
       "      <th>NAME</th>\n",
       "      <th>DATE</th>\n",
       "      <th>SNOW</th>\n",
       "      <th>SNOW_ATTRIBUTES</th>\n",
       "      <th>SNWD</th>\n",
       "      <th>SNWD_ATTRIBUTES</th>\n",
       "      <th>TAVG</th>\n",
       "      <th>TAVG_ATTRIBUTES</th>\n",
       "      <th>TMAX</th>\n",
       "      <th>TMAX_ATTRIBUTES</th>\n",
       "      <th>TMIN</th>\n",
       "      <th>TMIN_ATTRIBUTES</th>\n",
       "      <th>TOBS</th>\n",
       "      <th>TOBS_ATTRIBUTES</th>\n",
       "    </tr>\n",
       "  </thead>\n",
       "  <tbody>\n",
       "    <tr>\n",
       "      <th>73863</th>\n",
       "      <td>1980</td>\n",
       "      <td>USW00012960</td>\n",
       "      <td>HOUSTON INTERCONTINENTAL AIRPORT, TX US</td>\n",
       "      <td>1980-01-01</td>\n",
       "      <td>0.0</td>\n",
       "      <td>,,0</td>\n",
       "      <td>0.0</td>\n",
       "      <td>,,0</td>\n",
       "      <td>NaN</td>\n",
       "      <td>NaN</td>\n",
       "      <td>61.0</td>\n",
       "      <td>,,0</td>\n",
       "      <td>28.0</td>\n",
       "      <td>,,0</td>\n",
       "      <td>NaN</td>\n",
       "      <td>NaN</td>\n",
       "    </tr>\n",
       "    <tr>\n",
       "      <th>73864</th>\n",
       "      <td>1980</td>\n",
       "      <td>USW00012960</td>\n",
       "      <td>HOUSTON INTERCONTINENTAL AIRPORT, TX US</td>\n",
       "      <td>1980-01-02</td>\n",
       "      <td>0.0</td>\n",
       "      <td>,,0</td>\n",
       "      <td>0.0</td>\n",
       "      <td>,,0</td>\n",
       "      <td>NaN</td>\n",
       "      <td>NaN</td>\n",
       "      <td>70.0</td>\n",
       "      <td>,,0</td>\n",
       "      <td>32.0</td>\n",
       "      <td>,,0</td>\n",
       "      <td>NaN</td>\n",
       "      <td>NaN</td>\n",
       "    </tr>\n",
       "    <tr>\n",
       "      <th>73867</th>\n",
       "      <td>1980</td>\n",
       "      <td>USW00012960</td>\n",
       "      <td>HOUSTON INTERCONTINENTAL AIRPORT, TX US</td>\n",
       "      <td>1980-01-05</td>\n",
       "      <td>0.0</td>\n",
       "      <td>,,0</td>\n",
       "      <td>0.0</td>\n",
       "      <td>,,0</td>\n",
       "      <td>NaN</td>\n",
       "      <td>NaN</td>\n",
       "      <td>65.0</td>\n",
       "      <td>,,0</td>\n",
       "      <td>31.0</td>\n",
       "      <td>,,0</td>\n",
       "      <td>NaN</td>\n",
       "      <td>NaN</td>\n",
       "    </tr>\n",
       "    <tr>\n",
       "      <th>73894</th>\n",
       "      <td>1980</td>\n",
       "      <td>USW00012960</td>\n",
       "      <td>HOUSTON INTERCONTINENTAL AIRPORT, TX US</td>\n",
       "      <td>1980-02-01</td>\n",
       "      <td>0.0</td>\n",
       "      <td>,,0</td>\n",
       "      <td>0.0</td>\n",
       "      <td>,,0</td>\n",
       "      <td>NaN</td>\n",
       "      <td>NaN</td>\n",
       "      <td>47.0</td>\n",
       "      <td>,,0</td>\n",
       "      <td>28.0</td>\n",
       "      <td>,,0</td>\n",
       "      <td>NaN</td>\n",
       "      <td>NaN</td>\n",
       "    </tr>\n",
       "    <tr>\n",
       "      <th>73895</th>\n",
       "      <td>1980</td>\n",
       "      <td>USW00012960</td>\n",
       "      <td>HOUSTON INTERCONTINENTAL AIRPORT, TX US</td>\n",
       "      <td>1980-02-02</td>\n",
       "      <td>1.4</td>\n",
       "      <td>,,0</td>\n",
       "      <td>0.0</td>\n",
       "      <td>,,0</td>\n",
       "      <td>NaN</td>\n",
       "      <td>NaN</td>\n",
       "      <td>42.0</td>\n",
       "      <td>,,0</td>\n",
       "      <td>32.0</td>\n",
       "      <td>,,0</td>\n",
       "      <td>NaN</td>\n",
       "      <td>NaN</td>\n",
       "    </tr>\n",
       "  </tbody>\n",
       "</table>\n",
       "</div>"
      ],
      "text/plain": [
       "       YEAR      STATION                                     NAME        DATE  \\\n",
       "73863  1980  USW00012960  HOUSTON INTERCONTINENTAL AIRPORT, TX US  1980-01-01   \n",
       "73864  1980  USW00012960  HOUSTON INTERCONTINENTAL AIRPORT, TX US  1980-01-02   \n",
       "73867  1980  USW00012960  HOUSTON INTERCONTINENTAL AIRPORT, TX US  1980-01-05   \n",
       "73894  1980  USW00012960  HOUSTON INTERCONTINENTAL AIRPORT, TX US  1980-02-01   \n",
       "73895  1980  USW00012960  HOUSTON INTERCONTINENTAL AIRPORT, TX US  1980-02-02   \n",
       "\n",
       "       SNOW SNOW_ATTRIBUTES  SNWD SNWD_ATTRIBUTES  TAVG TAVG_ATTRIBUTES  TMAX  \\\n",
       "73863   0.0             ,,0   0.0             ,,0   NaN             NaN  61.0   \n",
       "73864   0.0             ,,0   0.0             ,,0   NaN             NaN  70.0   \n",
       "73867   0.0             ,,0   0.0             ,,0   NaN             NaN  65.0   \n",
       "73894   0.0             ,,0   0.0             ,,0   NaN             NaN  47.0   \n",
       "73895   1.4             ,,0   0.0             ,,0   NaN             NaN  42.0   \n",
       "\n",
       "      TMAX_ATTRIBUTES  TMIN TMIN_ATTRIBUTES  TOBS TOBS_ATTRIBUTES  \n",
       "73863             ,,0  28.0             ,,0   NaN             NaN  \n",
       "73864             ,,0  32.0             ,,0   NaN             NaN  \n",
       "73867             ,,0  31.0             ,,0   NaN             NaN  \n",
       "73894             ,,0  28.0             ,,0   NaN             NaN  \n",
       "73895             ,,0  32.0             ,,0   NaN             NaN  "
      ]
     },
     "execution_count": 8,
     "metadata": {},
     "output_type": "execute_result"
    }
   ],
   "source": [
    "#freezing_dates['YEAR'] = freezing_dates['DATE']\n",
    "#freezing_dates['DATE'].iloc[0][0:4]\n",
    "year = freezing_dates['DATE'].apply(lambda date: date[0:4])\n",
    "freezing_dates.insert(loc=0, column='YEAR', value = year.values)\n",
    "freezing_dates.head()"
   ]
  },
  {
   "cell_type": "markdown",
   "metadata": {},
   "source": [
    "## Number of freezing days per year"
   ]
  },
  {
   "cell_type": "code",
   "execution_count": 9,
   "metadata": {
    "collapsed": false
   },
   "outputs": [
    {
     "data": {
      "image/png": "[encoded data removed]",
      "text/plain": [
       "<matplotlib.figure.Figure at 0x11ada3cf8>"
      ]
     },
     "metadata": {},
     "output_type": "display_data"
    }
   ],
   "source": [
    "freezing_dates.groupby('YEAR')['TMIN'].count().plot.line()\n",
    "plt.show()\n",
    "#freezing_dates.groupby('YEAR')['TMIN'].plot.bar()"
   ]
  },
  {
   "cell_type": "code",
   "execution_count": null,
   "metadata": {
    "collapsed": true
   },
   "outputs": [],
   "source": []
  }
 ],
 "metadata": {
  "kernelspec": {
   "display_name": "Python [default]",
   "language": "python",
   "name": "python3"
  },
  "language_info": {
   "codemirror_mode": {
    "name": "ipython",
    "version": 3
   },
   "file_extension": ".py",
   "mimetype": "text/x-python",
   "name": "python",
   "nbconvert_exporter": "python",
   "pygments_lexer": "ipython3",
   "version": "3.6.0"
  }
 },
 "nbformat": 4,
 "nbformat_minor": 2
}
